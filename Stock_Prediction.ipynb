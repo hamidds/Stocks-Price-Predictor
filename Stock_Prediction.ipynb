{
  "nbformat": 4,
  "nbformat_minor": 0,
  "metadata": {
    "colab": {
      "name": "Stock Prediction.ipynb",
      "provenance": [],
      "collapsed_sections": [],
      "toc_visible": true,
      "mount_file_id": "1ANn0o1czuhsa0CAlCvRDiFT_STCyvaKy",
      "authorship_tag": "ABX9TyOFjdpgpxiXjS/XWd/QQ5qL",
      "include_colab_link": true
    },
    "kernelspec": {
      "name": "python3",
      "display_name": "Python 3"
    }
  },
  "cells": [
    {
      "cell_type": "markdown",
      "metadata": {
        "id": "view-in-github",
        "colab_type": "text"
      },
      "source": [
        "<a href=\"https://colab.research.google.com/github/hamidds/Stocks-Price-Predictor/blob/main/Stock_Prediction.ipynb\" target=\"_parent\"><img src=\"https://colab.research.google.com/assets/colab-badge.svg\" alt=\"Open In Colab\"/></a>"
      ]
    },
    {
      "cell_type": "markdown",
      "metadata": {
        "id": "OzSYLWpLnlX3"
      },
      "source": [
        "Loading Libraries which we need"
      ]
    },
    {
      "cell_type": "code",
      "metadata": {
        "id": "xCpMND6HmwZT"
      },
      "source": [
        "import pandas as pd\r\n",
        "import urllib.request, json\r\n",
        "import os\r\n",
        "import numpy as np\r\n",
        "from sklearn.preprocessing import MinMaxScaler"
      ],
      "execution_count": null,
      "outputs": []
    },
    {
      "cell_type": "code",
      "metadata": {
        "id": "usYb_uOXBVLa"
      },
      "source": [
        "from datetime import datetime\r\n",
        "import pandas_datareader.data as web\r\n",
        "api_key = '7C0LD1DCRKEJQV8H'\r\n",
        "stock_sym = \"AAL\"\r\n",
        "data_src = \"av-daily\"\r\n",
        "df = web.DataReader(stock_sym, data_src, start=datetime(2000, 2, 9),\r\n",
        "                    end=datetime(2020, 5, 24),\r\n",
        "                    api_key=api_key)\r\n",
        "df.to_csv(stock_sym + '_' +  data_src + \".csv\")\r\n",
        "df = pd.read_csv(stock_sym + '_' + data_src + \".csv\")\r\n"
      ],
      "execution_count": null,
      "outputs": []
    },
    {
      "cell_type": "code",
      "metadata": {
        "colab": {
          "base_uri": "https://localhost:8080/",
          "height": 402
        },
        "id": "H5PeAyh1q7d2",
        "outputId": "134d1ed3-670a-4bd3-fb5f-f04ab72452d0"
      },
      "source": [
        "df = df.rename(columns={'Unnamed: 0': 'Date'})\r\n",
        "# df.columns\r\n",
        "df.head()\r\n",
        "df.dropna()\r\n",
        "df"
      ],
      "execution_count": null,
      "outputs": [
        {
          "output_type": "execute_result",
          "data": {
            "text/html": [
              "<div>\n",
              "<style scoped>\n",
              "    .dataframe tbody tr th:only-of-type {\n",
              "        vertical-align: middle;\n",
              "    }\n",
              "\n",
              "    .dataframe tbody tr th {\n",
              "        vertical-align: top;\n",
              "    }\n",
              "\n",
              "    .dataframe thead th {\n",
              "        text-align: right;\n",
              "    }\n",
              "</style>\n",
              "<table border=\"1\" class=\"dataframe\">\n",
              "  <thead>\n",
              "    <tr style=\"text-align: right;\">\n",
              "      <th></th>\n",
              "      <th>Date</th>\n",
              "      <th>open</th>\n",
              "      <th>high</th>\n",
              "      <th>low</th>\n",
              "      <th>close</th>\n",
              "      <th>volume</th>\n",
              "    </tr>\n",
              "  </thead>\n",
              "  <tbody>\n",
              "    <tr>\n",
              "      <th>0</th>\n",
              "      <td>2005-09-27</td>\n",
              "      <td>21.05</td>\n",
              "      <td>21.40</td>\n",
              "      <td>19.10</td>\n",
              "      <td>19.30</td>\n",
              "      <td>2576944</td>\n",
              "    </tr>\n",
              "    <tr>\n",
              "      <th>1</th>\n",
              "      <td>2005-09-28</td>\n",
              "      <td>19.30</td>\n",
              "      <td>20.53</td>\n",
              "      <td>19.20</td>\n",
              "      <td>20.50</td>\n",
              "      <td>15409920</td>\n",
              "    </tr>\n",
              "    <tr>\n",
              "      <th>2</th>\n",
              "      <td>2005-09-29</td>\n",
              "      <td>20.40</td>\n",
              "      <td>20.58</td>\n",
              "      <td>20.10</td>\n",
              "      <td>20.21</td>\n",
              "      <td>2890617</td>\n",
              "    </tr>\n",
              "    <tr>\n",
              "      <th>3</th>\n",
              "      <td>2005-09-30</td>\n",
              "      <td>20.26</td>\n",
              "      <td>21.05</td>\n",
              "      <td>20.18</td>\n",
              "      <td>21.01</td>\n",
              "      <td>8373458</td>\n",
              "    </tr>\n",
              "    <tr>\n",
              "      <th>4</th>\n",
              "      <td>2005-10-03</td>\n",
              "      <td>20.90</td>\n",
              "      <td>21.75</td>\n",
              "      <td>20.90</td>\n",
              "      <td>21.50</td>\n",
              "      <td>2836193</td>\n",
              "    </tr>\n",
              "    <tr>\n",
              "      <th>...</th>\n",
              "      <td>...</td>\n",
              "      <td>...</td>\n",
              "      <td>...</td>\n",
              "      <td>...</td>\n",
              "      <td>...</td>\n",
              "      <td>...</td>\n",
              "    </tr>\n",
              "    <tr>\n",
              "      <th>3684</th>\n",
              "      <td>2020-05-18</td>\n",
              "      <td>9.62</td>\n",
              "      <td>9.94</td>\n",
              "      <td>9.36</td>\n",
              "      <td>9.87</td>\n",
              "      <td>76624405</td>\n",
              "    </tr>\n",
              "    <tr>\n",
              "      <th>3685</th>\n",
              "      <td>2020-05-19</td>\n",
              "      <td>10.14</td>\n",
              "      <td>10.19</td>\n",
              "      <td>9.59</td>\n",
              "      <td>9.64</td>\n",
              "      <td>62242475</td>\n",
              "    </tr>\n",
              "    <tr>\n",
              "      <th>3686</th>\n",
              "      <td>2020-05-20</td>\n",
              "      <td>9.91</td>\n",
              "      <td>10.14</td>\n",
              "      <td>9.77</td>\n",
              "      <td>9.87</td>\n",
              "      <td>44006731</td>\n",
              "    </tr>\n",
              "    <tr>\n",
              "      <th>3687</th>\n",
              "      <td>2020-05-21</td>\n",
              "      <td>9.87</td>\n",
              "      <td>10.15</td>\n",
              "      <td>9.83</td>\n",
              "      <td>9.89</td>\n",
              "      <td>45785718</td>\n",
              "    </tr>\n",
              "    <tr>\n",
              "      <th>3688</th>\n",
              "      <td>2020-05-22</td>\n",
              "      <td>10.02</td>\n",
              "      <td>10.12</td>\n",
              "      <td>9.63</td>\n",
              "      <td>9.70</td>\n",
              "      <td>37596763</td>\n",
              "    </tr>\n",
              "  </tbody>\n",
              "</table>\n",
              "<p>3689 rows × 6 columns</p>\n",
              "</div>"
            ],
            "text/plain": [
              "            Date   open   high    low  close    volume\n",
              "0     2005-09-27  21.05  21.40  19.10  19.30   2576944\n",
              "1     2005-09-28  19.30  20.53  19.20  20.50  15409920\n",
              "2     2005-09-29  20.40  20.58  20.10  20.21   2890617\n",
              "3     2005-09-30  20.26  21.05  20.18  21.01   8373458\n",
              "4     2005-10-03  20.90  21.75  20.90  21.50   2836193\n",
              "...          ...    ...    ...    ...    ...       ...\n",
              "3684  2020-05-18   9.62   9.94   9.36   9.87  76624405\n",
              "3685  2020-05-19  10.14  10.19   9.59   9.64  62242475\n",
              "3686  2020-05-20   9.91  10.14   9.77   9.87  44006731\n",
              "3687  2020-05-21   9.87  10.15   9.83   9.89  45785718\n",
              "3688  2020-05-22  10.02  10.12   9.63   9.70  37596763\n",
              "\n",
              "[3689 rows x 6 columns]"
            ]
          },
          "metadata": {
            "tags": []
          },
          "execution_count": 4
        }
      ]
    },
    {
      "cell_type": "code",
      "metadata": {
        "id": "_FSujH49Ifqq"
      },
      "source": [
        "h = df['high']\r\n",
        "l = df['low']\r\n",
        "c = df['close']\r\n",
        "hlc3 = (h+l+c)/3 \r\n",
        "df_hlc3 = pd.DataFrame({'hlc3':hlc3})\r\n",
        "# df_hlc3"
      ],
      "execution_count": null,
      "outputs": []
    },
    {
      "cell_type": "code",
      "metadata": {
        "colab": {
          "base_uri": "https://localhost:8080/",
          "height": 282
        },
        "id": "VEUAVsXvKMTz",
        "outputId": "cb485b76-ab78-42e0-8a15-a58b5b7d1136"
      },
      "source": [
        "import matplotlib.pyplot as plt\r\n",
        "plt.plot(df_hlc3)"
      ],
      "execution_count": null,
      "outputs": [
        {
          "output_type": "execute_result",
          "data": {
            "text/plain": [
              "[<matplotlib.lines.Line2D at 0x7f444c4ef2b0>]"
            ]
          },
          "metadata": {
            "tags": []
          },
          "execution_count": 6
        },
        {
          "output_type": "display_data",
          "data": {
            "image/png": "[encoded data removed]",
            "text/plain": [
              "<Figure size 432x288 with 1 Axes>"
            ]
          },
          "metadata": {
            "tags": [],
            "needs_background": "light"
          }
        }
      ]
    },
    {
      "cell_type": "markdown",
      "metadata": {
        "id": "DebDzTLPMD7w"
      },
      "source": [
        "**Normalizing our data using MinMaxScaler**\r\n",
        "\r\n",
        "*   LSTMs are sensetive to the scale of the data.\r\n",
        "\r\n"
      ]
    },
    {
      "cell_type": "code",
      "metadata": {
        "colab": {
          "base_uri": "https://localhost:8080/"
        },
        "id": "SQoIgnsaLeTX",
        "outputId": "be64725a-4180-458e-c3e2-8c2f5055283d"
      },
      "source": [
        "scaler = MinMaxScaler(feature_range=(0,1))\r\n",
        "df_hlc3 = scaler.fit_transform(np.array(df_hlc3).reshape(-1,1))\r\n",
        "df_hlc3"
      ],
      "execution_count": null,
      "outputs": [
        {
          "output_type": "execute_result",
          "data": {
            "text/plain": [
              "array([[0.29817466],\n",
              "       [0.30052465],\n",
              "       [0.3041316 ],\n",
              "       ...,\n",
              "       [0.13411302],\n",
              "       [0.13460487],\n",
              "       [0.13230954]])"
            ]
          },
          "metadata": {
            "tags": []
          },
          "execution_count": 7
        }
      ]
    },
    {
      "cell_type": "code",
      "metadata": {
        "id": "XVVH5J4bMs38"
      },
      "source": [
        "training_size = int(len(df_hlc3) * 0.7)\r\n",
        "test_size = len(df_hlc3) - training_size\r\n",
        "train_set, test_set = df_hlc3[0:training_size, :] , df_hlc3[training_size:len(df_hlc3), : 1]"
      ],
      "execution_count": null,
      "outputs": []
    },
    {
      "cell_type": "code",
      "metadata": {
        "id": "c0BEaOHXQNUN"
      },
      "source": [
        "def create_dataset(dataset, time_step=1):\r\n",
        "\tX, Y = [], []\r\n",
        "\tfor i in range(len(dataset) - time_step - 1):\r\n",
        "\t\ta = dataset[i:(i+time_step), 0] \r\n",
        "\t\tX.append(a)\r\n",
        "\t\tY.append(dataset[i + time_step, 0])\r\n",
        "\treturn np.array(X), np.array(Y)"
      ],
      "execution_count": null,
      "outputs": []
    },
    {
      "cell_type": "markdown",
      "metadata": {
        "id": "xRqLHnvBQufQ"
      },
      "source": [
        "Create matrices for training set and test set\r\n"
      ]
    },
    {
      "cell_type": "code",
      "metadata": {
        "id": "T80AB0BrQ6kR"
      },
      "source": [
        "time_step = 200\r\n",
        "x_train, y_train = create_dataset(train_set, time_step)\r\n",
        "x_test, y_test = create_dataset(test_set, time_step)"
      ],
      "execution_count": null,
      "outputs": []
    },
    {
      "cell_type": "code",
      "metadata": {
        "id": "SJkJ1h8zRdAt"
      },
      "source": [
        "x_train = x_train.reshape(x_train.shape[0], x_train.shape[1], 1)\r\n",
        "x_test  = x_test.reshape(x_test.shape[0], x_test.shape[1], 1)"
      ],
      "execution_count": null,
      "outputs": []
    },
    {
      "cell_type": "code",
      "metadata": {
        "colab": {
          "base_uri": "https://localhost:8080/"
        },
        "id": "J1IQ_sGgTml2",
        "outputId": "b0b13342-40a4-446d-872d-299f4540446a"
      },
      "source": [
        "from tensorflow.keras.models import Sequential\r\n",
        "from tensorflow.keras.layers import Dense\r\n",
        "from tensorflow.keras.layers import LSTM\r\n",
        "model = Sequential()\r\n",
        "model.add(LSTM(units=50, return_sequences=True, input_shape = (time_step, 1)))\r\n",
        "model.add(LSTM(units=50, return_sequences=True))\r\n",
        "model.add(LSTM(units=50))\r\n",
        "model.add(Dense(units=1))\r\n",
        "model.compile(loss='mean_squared_error',optimizer='adam')\r\n",
        "model.summary()"
      ],
      "execution_count": null,
      "outputs": [
        {
          "output_type": "stream",
          "text": [
            "Model: \"sequential\"\n",
            "_________________________________________________________________\n",
            "Layer (type)                 Output Shape              Param #   \n",
            "=================================================================\n",
            "lstm (LSTM)                  (None, 200, 50)           10400     \n",
            "_________________________________________________________________\n",
            "lstm_1 (LSTM)                (None, 200, 50)           20200     \n",
            "_________________________________________________________________\n",
            "lstm_2 (LSTM)                (None, 50)                20200     \n",
            "_________________________________________________________________\n",
            "dense (Dense)                (None, 1)                 51        \n",
            "=================================================================\n",
            "Total params: 50,851\n",
            "Trainable params: 50,851\n",
            "Non-trainable params: 0\n",
            "_________________________________________________________________\n"
          ],
          "name": "stdout"
        }
      ]
    },
    {
      "cell_type": "code",
      "metadata": {
        "colab": {
          "base_uri": "https://localhost:8080/"
        },
        "id": "Z4NI2sLVbPcv",
        "outputId": "0ea299bf-4aeb-47dd-dd2d-3e85b2185b55"
      },
      "source": [
        "model.fit(x_train, y_train, validation_data=(x_test,y_test), epochs=100, batch_size=64, verbose=1)"
      ],
      "execution_count": null,
      "outputs": [
        {
          "output_type": "stream",
          "text": [
            "Epoch 1/100\n",
            "38/38 [==============================] - 16s 327ms/step - loss: 0.0483 - val_loss: 0.0040\n",
            "Epoch 2/100\n",
            "38/38 [==============================] - 12s 313ms/step - loss: 0.0018 - val_loss: 0.0020\n",
            "Epoch 3/100\n",
            "38/38 [==============================] - 12s 318ms/step - loss: 0.0013 - val_loss: 0.0020\n",
            "Epoch 4/100\n",
            "38/38 [==============================] - 12s 322ms/step - loss: 0.0013 - val_loss: 0.0019\n",
            "Epoch 5/100\n",
            "38/38 [==============================] - 12s 318ms/step - loss: 0.0011 - val_loss: 0.0019\n",
            "Epoch 6/100\n",
            "38/38 [==============================] - 12s 319ms/step - loss: 0.0012 - val_loss: 0.0017\n",
            "Epoch 7/100\n",
            "38/38 [==============================] - 12s 316ms/step - loss: 0.0011 - val_loss: 0.0017\n",
            "Epoch 8/100\n",
            "38/38 [==============================] - 12s 319ms/step - loss: 0.0010 - val_loss: 0.0015\n",
            "Epoch 9/100\n",
            "38/38 [==============================] - 12s 323ms/step - loss: 0.0010 - val_loss: 0.0014\n",
            "Epoch 10/100\n",
            "38/38 [==============================] - 12s 326ms/step - loss: 9.4742e-04 - val_loss: 0.0013\n",
            "Epoch 11/100\n",
            "38/38 [==============================] - 12s 328ms/step - loss: 9.6060e-04 - val_loss: 0.0015\n",
            "Epoch 12/100\n",
            "38/38 [==============================] - 12s 326ms/step - loss: 9.4676e-04 - val_loss: 0.0012\n",
            "Epoch 13/100\n",
            "38/38 [==============================] - 12s 328ms/step - loss: 9.4872e-04 - val_loss: 0.0026\n",
            "Epoch 14/100\n",
            "38/38 [==============================] - 12s 328ms/step - loss: 8.5767e-04 - val_loss: 0.0014\n",
            "Epoch 15/100\n",
            "38/38 [==============================] - 12s 325ms/step - loss: 8.5796e-04 - val_loss: 0.0011\n",
            "Epoch 16/100\n",
            "38/38 [==============================] - 12s 326ms/step - loss: 8.4411e-04 - val_loss: 9.9569e-04\n",
            "Epoch 17/100\n",
            "38/38 [==============================] - 12s 326ms/step - loss: 7.6059e-04 - val_loss: 9.8536e-04\n",
            "Epoch 18/100\n",
            "38/38 [==============================] - 12s 326ms/step - loss: 7.4898e-04 - val_loss: 0.0011\n",
            "Epoch 19/100\n",
            "38/38 [==============================] - 12s 326ms/step - loss: 7.4184e-04 - val_loss: 8.8931e-04\n",
            "Epoch 20/100\n",
            "38/38 [==============================] - 13s 331ms/step - loss: 6.6080e-04 - val_loss: 7.9113e-04\n",
            "Epoch 21/100\n",
            "38/38 [==============================] - 13s 330ms/step - loss: 6.4529e-04 - val_loss: 7.2395e-04\n",
            "Epoch 22/100\n",
            "38/38 [==============================] - 13s 330ms/step - loss: 6.0317e-04 - val_loss: 7.7794e-04\n",
            "Epoch 23/100\n",
            "38/38 [==============================] - 13s 331ms/step - loss: 5.8153e-04 - val_loss: 7.2659e-04\n",
            "Epoch 24/100\n",
            "38/38 [==============================] - 13s 330ms/step - loss: 5.0371e-04 - val_loss: 5.9088e-04\n",
            "Epoch 25/100\n",
            "38/38 [==============================] - 12s 329ms/step - loss: 5.2561e-04 - val_loss: 6.9462e-04\n",
            "Epoch 26/100\n",
            "38/38 [==============================] - 12s 327ms/step - loss: 4.8138e-04 - val_loss: 8.4379e-04\n",
            "Epoch 27/100\n",
            "38/38 [==============================] - 13s 331ms/step - loss: 4.6022e-04 - val_loss: 5.3844e-04\n",
            "Epoch 28/100\n",
            "38/38 [==============================] - 13s 331ms/step - loss: 3.8449e-04 - val_loss: 4.5876e-04\n",
            "Epoch 29/100\n",
            "38/38 [==============================] - 13s 331ms/step - loss: 3.7647e-04 - val_loss: 5.5037e-04\n",
            "Epoch 30/100\n",
            "38/38 [==============================] - 13s 330ms/step - loss: 3.5338e-04 - val_loss: 4.1619e-04\n",
            "Epoch 31/100\n",
            "38/38 [==============================] - 12s 329ms/step - loss: 3.6264e-04 - val_loss: 4.2558e-04\n",
            "Epoch 32/100\n",
            "38/38 [==============================] - 13s 331ms/step - loss: 3.4362e-04 - val_loss: 5.6555e-04\n",
            "Epoch 33/100\n",
            "38/38 [==============================] - 12s 329ms/step - loss: 3.3753e-04 - val_loss: 3.6730e-04\n",
            "Epoch 34/100\n",
            "38/38 [==============================] - 12s 327ms/step - loss: 3.2673e-04 - val_loss: 3.9086e-04\n",
            "Epoch 35/100\n",
            "38/38 [==============================] - 13s 331ms/step - loss: 3.2469e-04 - val_loss: 6.7078e-04\n",
            "38/38 [==============================] - 12s 329ms/step - loss: 4.2205e-04 - val_loss: 3.7196e-04\n",
            "Epoch 37/100\n",
            "38/38 [==============================] - 12s 329ms/step - loss: 2.5229e-04 - val_loss: 4.1062e-04\n",
            "Epoch 38/100\n",
            "38/38 [==============================] - 13s 333ms/step - loss: 3.0212e-04 - val_loss: 6.2867e-04\n",
            "Epoch 39/100\n",
            "38/38 [==============================] - 13s 330ms/step - loss: 4.7937e-04 - val_loss: 3.0474e-04\n",
            "Epoch 40/100\n",
            "38/38 [==============================] - 13s 332ms/step - loss: 2.2935e-04 - val_loss: 2.8084e-04\n",
            "Epoch 41/100\n",
            "38/38 [==============================] - 13s 330ms/step - loss: 2.7098e-04 - val_loss: 2.7483e-04\n",
            "Epoch 42/100\n",
            "38/38 [==============================] - 12s 329ms/step - loss: 2.2145e-04 - val_loss: 3.4657e-04\n",
            "Epoch 43/100\n",
            "38/38 [==============================] - 12s 329ms/step - loss: 2.1928e-04 - val_loss: 3.8293e-04\n",
            "Epoch 44/100\n",
            "38/38 [==============================] - 12s 328ms/step - loss: 2.4108e-04 - val_loss: 2.4950e-04\n",
            "Epoch 45/100\n",
            "38/38 [==============================] - 12s 329ms/step - loss: 1.9281e-04 - val_loss: 3.6147e-04\n",
            "Epoch 46/100\n",
            "38/38 [==============================] - 13s 331ms/step - loss: 2.4647e-04 - val_loss: 3.1367e-04\n",
            "Epoch 47/100\n",
            "38/38 [==============================] - 13s 330ms/step - loss: 2.0190e-04 - val_loss: 2.4596e-04\n",
            "Epoch 48/100\n",
            "38/38 [==============================] - 13s 331ms/step - loss: 1.6744e-04 - val_loss: 2.5034e-04\n",
            "Epoch 49/100\n",
            "38/38 [==============================] - 13s 331ms/step - loss: 2.1879e-04 - val_loss: 2.2103e-04\n",
            "Epoch 50/100\n",
            "38/38 [==============================] - 12s 328ms/step - loss: 1.7055e-04 - val_loss: 2.5622e-04\n",
            "Epoch 51/100\n",
            "38/38 [==============================] - 13s 330ms/step - loss: 2.0598e-04 - val_loss: 5.1652e-04\n",
            "Epoch 52/100\n",
            "38/38 [==============================] - 13s 331ms/step - loss: 2.0774e-04 - val_loss: 2.0376e-04\n",
            "Epoch 53/100\n",
            "38/38 [==============================] - 13s 330ms/step - loss: 2.1196e-04 - val_loss: 2.4668e-04\n",
            "Epoch 54/100\n",
            "38/38 [==============================] - 12s 329ms/step - loss: 2.0141e-04 - val_loss: 4.5096e-04\n",
            "Epoch 55/100\n",
            "38/38 [==============================] - 13s 329ms/step - loss: 1.6791e-04 - val_loss: 2.0214e-04\n",
            "Epoch 56/100\n",
            "38/38 [==============================] - 13s 331ms/step - loss: 1.5287e-04 - val_loss: 2.0859e-04\n",
            "Epoch 57/100\n",
            "38/38 [==============================] - 13s 331ms/step - loss: 1.5433e-04 - val_loss: 2.3592e-04\n",
            "Epoch 58/100\n",
            "38/38 [==============================] - 13s 330ms/step - loss: 1.9606e-04 - val_loss: 2.3688e-04\n",
            "Epoch 59/100\n",
            "38/38 [==============================] - ETA: 0s - loss: 1.6099e-04Epoch 60/100\n",
            "38/38 [==============================] - 13s 331ms/step - loss: 1.4895e-04 - val_loss: 4.6812e-04\n",
            "Epoch 61/100\n",
            "38/38 [==============================] - 13s 330ms/step - loss: 1.8329e-04 - val_loss: 1.8893e-04\n",
            "Epoch 62/100\n",
            "38/38 [==============================] - 12s 329ms/step - loss: 1.4959e-04 - val_loss: 4.1622e-04\n",
            "Epoch 63/100\n",
            "38/38 [==============================] - 13s 332ms/step - loss: 1.8189e-04 - val_loss: 2.4661e-04\n",
            "Epoch 64/100\n",
            "38/38 [==============================] - 12s 328ms/step - loss: 1.8819e-04 - val_loss: 1.7427e-04\n",
            "Epoch 65/100\n",
            "38/38 [==============================] - 12s 327ms/step - loss: 1.3235e-04 - val_loss: 2.4117e-04\n",
            "Epoch 66/100\n",
            "38/38 [==============================] - 12s 327ms/step - loss: 1.8119e-04 - val_loss: 1.9569e-04\n",
            "Epoch 67/100\n",
            "38/38 [==============================] - 13s 330ms/step - loss: 1.4030e-04 - val_loss: 2.6722e-04\n",
            "Epoch 68/100\n",
            "38/38 [==============================] - 12s 329ms/step - loss: 1.4784e-04 - val_loss: 7.6214e-04\n",
            "Epoch 69/100\n",
            "38/38 [==============================] - 12s 327ms/step - loss: 2.0554e-04 - val_loss: 2.6801e-04\n",
            "Epoch 70/100\n",
            "38/38 [==============================] - 13s 332ms/step - loss: 1.5695e-04 - val_loss: 4.9062e-04\n",
            "Epoch 71/100\n",
            "38/38 [==============================] - 12s 329ms/step - loss: 2.0090e-04 - val_loss: 1.7936e-04\n",
            "Epoch 72/100\n",
            "38/38 [==============================] - 12s 329ms/step - loss: 2.1817e-04 - val_loss: 2.0834e-04\n",
            "Epoch 73/100\n",
            "38/38 [==============================] - 13s 332ms/step - loss: 1.2318e-04 - val_loss: 5.7650e-04\n",
            "Epoch 74/100\n",
            "38/38 [==============================] - 12s 326ms/step - loss: 2.4876e-04 - val_loss: 1.7222e-04\n",
            "Epoch 75/100\n",
            "38/38 [==============================] - 12s 328ms/step - loss: 1.2610e-04 - val_loss: 3.3388e-04\n",
            "Epoch 76/100\n",
            "38/38 [==============================] - 12s 329ms/step - loss: 1.4628e-04 - val_loss: 1.6759e-04\n",
            "Epoch 77/100\n",
            "38/38 [==============================] - 12s 326ms/step - loss: 1.4774e-04 - val_loss: 3.0806e-04\n",
            "Epoch 78/100\n",
            "38/38 [==============================] - 12s 328ms/step - loss: 1.4284e-04 - val_loss: 1.6959e-04\n",
            "Epoch 79/100\n",
            "38/38 [==============================] - 12s 327ms/step - loss: 1.2925e-04 - val_loss: 1.6817e-04\n",
            "Epoch 80/100\n",
            "38/38 [==============================] - 12s 329ms/step - loss: 1.2590e-04 - val_loss: 1.8393e-04\n",
            "Epoch 81/100\n",
            "38/38 [==============================] - 13s 330ms/step - loss: 1.2844e-04 - val_loss: 1.9213e-04\n",
            "Epoch 82/100\n",
            "38/38 [==============================] - 12s 328ms/step - loss: 1.6405e-04 - val_loss: 1.8037e-04\n",
            "Epoch 83/100\n",
            "38/38 [==============================] - 12s 329ms/step - loss: 1.3943e-04 - val_loss: 1.6502e-04\n",
            "Epoch 84/100\n",
            "38/38 [==============================] - 12s 328ms/step - loss: 1.5516e-04 - val_loss: 1.6686e-04\n",
            "Epoch 85/100\n",
            "38/38 [==============================] - 12s 327ms/step - loss: 1.5395e-04 - val_loss: 2.5122e-04\n",
            "Epoch 86/100\n",
            "38/38 [==============================] - 12s 329ms/step - loss: 1.4712e-04 - val_loss: 1.6701e-04\n",
            "Epoch 87/100\n",
            "38/38 [==============================] - 12s 329ms/step - loss: 1.2901e-04 - val_loss: 1.8633e-04\n",
            "Epoch 88/100\n",
            "38/38 [==============================] - 13s 330ms/step - loss: 1.3696e-04 - val_loss: 1.7450e-04\n",
            "Epoch 89/100\n",
            "38/38 [==============================] - 12s 328ms/step - loss: 1.3678e-04 - val_loss: 1.6909e-04\n",
            "Epoch 90/100\n",
            "38/38 [==============================] - 12s 330ms/step - loss: 1.5460e-04 - val_loss: 4.3393e-04\n",
            "Epoch 91/100\n",
            "38/38 [==============================] - 13s 330ms/step - loss: 1.9545e-04 - val_loss: 1.8107e-04\n",
            "Epoch 92/100\n",
            "38/38 [==============================] - 12s 328ms/step - loss: 1.3994e-04 - val_loss: 1.9378e-04\n",
            "Epoch 93/100\n",
            "38/38 [==============================] - 12s 328ms/step - loss: 1.2665e-04 - val_loss: 1.8676e-04\n",
            "Epoch 94/100\n",
            "38/38 [==============================] - 12s 328ms/step - loss: 1.4220e-04 - val_loss: 2.6438e-04\n",
            "Epoch 95/100\n",
            "38/38 [==============================] - 12s 329ms/step - loss: 1.6396e-04 - val_loss: 1.6731e-04\n",
            "Epoch 96/100\n",
            "38/38 [==============================] - 13s 330ms/step - loss: 1.5992e-04 - val_loss: 2.3452e-04\n",
            "Epoch 97/100\n",
            "38/38 [==============================] - 12s 330ms/step - loss: 1.4487e-04 - val_loss: 3.5243e-04\n",
            "Epoch 98/100\n",
            "38/38 [==============================] - 12s 327ms/step - loss: 1.4208e-04 - val_loss: 2.7399e-04\n",
            "Epoch 99/100\n",
            "38/38 [==============================] - 12s 328ms/step - loss: 1.5939e-04 - val_loss: 1.9994e-04\n",
            "Epoch 100/100\n",
            "38/38 [==============================] - 12s 330ms/step - loss: 1.3180e-04 - val_loss: 2.8651e-04\n"
          ],
          "name": "stdout"
        },
        {
          "output_type": "execute_result",
          "data": {
            "text/plain": [
              "<tensorflow.python.keras.callbacks.History at 0x7f4415983cc0>"
            ]
          },
          "metadata": {
            "tags": []
          },
          "execution_count": 19
        }
      ]
    },
    {
      "cell_type": "markdown",
      "metadata": {
        "id": "3YypkKiYlyUt"
      },
      "source": [
        "**Model Evaluation**\r\n",
        "\r\n",
        "1.   Calculating Root Mean Square Error (RMSE)\r\n",
        "\r\n",
        "\r\n",
        "\r\n",
        "\r\n",
        "\r\n",
        "\r\n"
      ]
    },
    {
      "cell_type": "code",
      "metadata": {
        "id": "4_MtK5PGlkxU",
        "colab": {
          "base_uri": "https://localhost:8080/"
        },
        "outputId": "bb4b8c00-94bb-4c4b-ae92-12b1bdc376b0"
      },
      "source": [
        "import tensorflow as tf\r\n",
        "import math\r\n",
        "from sklearn.metrics import mean_squared_error\r\n",
        "\r\n",
        "train_predict=model.predict(x_train)\r\n",
        "test_predict=model.predict(x_test)\r\n",
        "train_predict=scaler.inverse_transform(train_predict)\r\n",
        "test_predict=scaler.inverse_transform(test_predict)\r\n",
        "\r\n",
        "print(math.sqrt(mean_squared_error(y_train,train_predict)))\r\n",
        "print(math.sqrt(mean_squared_error(y_test,test_predict)))"
      ],
      "execution_count": null,
      "outputs": [
        {
          "output_type": "stream",
          "text": [
            "26.90309004184145\n",
            "39.805422565415185\n"
          ],
          "name": "stdout"
        }
      ]
    },
    {
      "cell_type": "code",
      "metadata": {
        "colab": {
          "base_uri": "https://localhost:8080/",
          "height": 282
        },
        "id": "D0gGOVwbj4JN",
        "outputId": "87d1401d-1734-4ce5-9c99-c95d199dd884"
      },
      "source": [
        "### Plotting \r\n",
        "# shift train predictions for plotting\r\n",
        "trainPredictPlot = np.empty_like(df_hlc3)\r\n",
        "trainPredictPlot[:, :] = np.nan\r\n",
        "trainPredictPlot[time_step:len(train_predict) + time_step, :] = train_predict\r\n",
        "# shift test predictions for plotting\r\n",
        "testPredictPlot = np.empty_like(df_hlc3)\r\n",
        "testPredictPlot[:, :] = np.nan\r\n",
        "testPredictPlot[len(train_predict) + (time_step*2) + 1:len(df_hlc3) - 1, :] = test_predict\r\n",
        "# plot baseline and predictions\r\n",
        "plt.plot(scaler.inverse_transform(df_hlc3), label='Real Values')\r\n",
        "plt.plot(trainPredictPlot, label='Train Prediction')\r\n",
        "plt.plot(testPredictPlot, label='Test Prediction')\r\n",
        "plt.legend()\r\n",
        "# plt.show()"
      ],
      "execution_count": null,
      "outputs": [
        {
          "output_type": "execute_result",
          "data": {
            "text/plain": [
              "<matplotlib.legend.Legend at 0x7f44110861d0>"
            ]
          },
          "metadata": {
            "tags": []
          },
          "execution_count": 22
        },
        {
          "output_type": "display_data",
          "data": {
            "image/png": "[encoded data removed]",
            "text/plain": [
              "<Figure size 432x288 with 1 Axes>"
            ]
          },
          "metadata": {
            "tags": [],
            "needs_background": "light"
          }
        }
      ]
    }
  ]
}